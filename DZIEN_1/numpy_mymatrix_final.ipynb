{
 "cells":[
  {
   "cell_type":"code",
   "source":[
    "import numpy as np"
   ],
   "execution_count":1,
   "outputs":[
    
   ],
   "metadata":{
    "datalore":{
     "node_id":"tllpBP5nMBnBHjHwmHIIoG",
     "type":"CODE",
     "hide_input_from_viewers":true,
     "hide_output_from_viewers":true
    }
   }
  },
  {
   "cell_type":"code",
   "source":[
    "np.array([4,2,5,2,5])"
   ],
   "execution_count":2,
   "outputs":[
    {
     "data":{
      "text\/html":[
       "<pre>array([4, 2, 5, 2, 5])<\/pre>"
      ]
     },
     "metadata":{
      
     },
     "output_type":"display_data"
    }
   ],
   "metadata":{
    "datalore":{
     "node_id":"hMep3i9Pl3wIecasguovpY",
     "type":"CODE",
     "hide_input_from_viewers":true,
     "hide_output_from_viewers":true
    }
   }
  },
  {
   "cell_type":"code",
   "source":[
    "import numpy as np\r\n",
    "np.array([4,2,5,2,5])\r\n",
    "np.arange(32)\r"
   ],
   "execution_count":3,
   "outputs":[
    {
     "data":{
      "text\/html":[
       "<pre>array([ 0,  1,  2,  3,  4,  5,  6,  7,  8,  9, 10, 11, 12, 13, 14, 15, 16,\n",
       "       17, 18, 19, 20, 21, 22, 23, 24, 25, 26, 27, 28, 29, 30, 31])<\/pre>"
      ]
     },
     "metadata":{
      
     },
     "output_type":"display_data"
    }
   ],
   "metadata":{
    "datalore":{
     "node_id":"km9eIlPD85SqAWl4woBd4D",
     "type":"CODE",
     "hide_input_from_viewers":true,
     "hide_output_from_viewers":true
    }
   }
  },
  {
   "cell_type":"markdown",
   "source":[
    "To jest pierwszy **notebook** oparty na mechanizmie <span style=\"color:red;font-size:16pt;font-family:Impact;\">Jupyter Notebook<\/span>"
   ],
   "attachments":{
    
   },
   "metadata":{
    "datalore":{
     "node_id":"SzcnyjH7dbMAA7zJY83XNJ",
     "type":"MD",
     "hide_input_from_viewers":true,
     "hide_output_from_viewers":true
    }
   }
  },
  {
   "cell_type":"code",
   "source":[
    "n = np.arange(12)\n",
    "print(n)\n",
    "print(type(n))"
   ],
   "execution_count":4,
   "outputs":[
    {
     "name":"stdout",
     "text":[
      "[ 0  1  2  3  4  5  6  7  8  9 10 11]\n",
      "<class 'numpy.ndarray'>\n"
     ],
     "output_type":"stream"
    }
   ],
   "metadata":{
    "datalore":{
     "node_id":"jYjjAgpoiClL96a5Wcq9uv",
     "type":"CODE",
     "hide_input_from_viewers":true,
     "hide_output_from_viewers":true
    }
   }
  },
  {
   "cell_type":"code",
   "source":[
    "w = np.array([[1,2,3,4],[5,6,7,8],[14,56,78,99]])\n",
    "w"
   ],
   "execution_count":5,
   "outputs":[
    {
     "data":{
      "text\/html":[
       "<pre>array([[ 1,  2,  3,  4],\n",
       "       [ 5,  6,  7,  8],\n",
       "       [14, 56, 78, 99]])<\/pre>"
      ]
     },
     "metadata":{
      
     },
     "output_type":"display_data"
    }
   ],
   "metadata":{
    "datalore":{
     "node_id":"36CaQRfyVtg4grFx0Mb2kR",
     "type":"CODE",
     "hide_input_from_viewers":true,
     "hide_output_from_viewers":true
    }
   }
  },
  {
   "cell_type":"code",
   "source":[
    "w[0][2]"
   ],
   "execution_count":7,
   "outputs":[
    {
     "data":{
      "text\/plain":[
       "3"
      ]
     },
     "metadata":{
      
     },
     "output_type":"display_data"
    }
   ],
   "metadata":{
    "datalore":{
     "node_id":"TsQ25P27JvCp0oRPLEi23h",
     "type":"CODE",
     "hide_input_from_viewers":true,
     "hide_output_from_viewers":true
    }
   }
  },
  {
   "cell_type":"code",
   "source":[
    "w[0,2]"
   ],
   "execution_count":8,
   "outputs":[
    {
     "data":{
      "text\/plain":[
       "3"
      ]
     },
     "metadata":{
      
     },
     "output_type":"display_data"
    }
   ],
   "metadata":{
    "datalore":{
     "node_id":"ny93e2oOiexGryKiAyfWfP",
     "type":"CODE",
     "hide_input_from_viewers":true,
     "hide_output_from_viewers":true
    }
   }
  },
  {
   "cell_type":"code",
   "source":[
    "zw = list([[3,6],[7,9]])\n",
    "zw"
   ],
   "execution_count":9,
   "outputs":[
    {
     "data":{
      "text\/plain":[
       "[[3, 6], [7, 9]]"
      ]
     },
     "metadata":{
      
     },
     "output_type":"display_data"
    }
   ],
   "metadata":{
    "datalore":{
     "node_id":"WYG53hwPTP67rBZlTfj8QO",
     "type":"CODE",
     "hide_input_from_viewers":true,
     "hide_output_from_viewers":true
    }
   }
  },
  {
   "cell_type":"code",
   "source":[
    "zw[0][0]"
   ],
   "execution_count":10,
   "outputs":[
    {
     "data":{
      "text\/plain":[
       "3"
      ]
     },
     "metadata":{
      
     },
     "output_type":"display_data"
    }
   ],
   "metadata":{
    "datalore":{
     "node_id":"8fvMbWY5GNwjwnrH2KITqn",
     "type":"CODE",
     "hide_input_from_viewers":true,
     "hide_output_from_viewers":true
    }
   }
  },
  {
   "cell_type":"code",
   "source":[
    "w[w<5]"
   ],
   "execution_count":12,
   "outputs":[
    {
     "data":{
      "text\/html":[
       "<pre>array([1, 2, 3, 4])<\/pre>"
      ]
     },
     "metadata":{
      
     },
     "output_type":"display_data"
    }
   ],
   "metadata":{
    "datalore":{
     "node_id":"WaXZR89hZJrNMCp5Dvk8BQ",
     "type":"CODE",
     "hide_input_from_viewers":true,
     "hide_output_from_viewers":true
    }
   }
  },
  {
   "cell_type":"code",
   "source":[
    "pc = (w>=5)\n",
    "w[pc]"
   ],
   "execution_count":13,
   "outputs":[
    {
     "data":{
      "text\/html":[
       "<pre>array([ 5,  6,  7,  8, 14, 56, 78, 99])<\/pre>"
      ]
     },
     "metadata":{
      
     },
     "output_type":"display_data"
    }
   ],
   "metadata":{
    "datalore":{
     "node_id":"v5b6iNIGcwlKKivlYVPZs5",
     "type":"CODE",
     "hide_input_from_viewers":true,
     "hide_output_from_viewers":true
    }
   }
  },
  {
   "cell_type":"code",
   "source":[
    "lg = (w%2==0)\n",
    "w[lg]"
   ],
   "execution_count":14,
   "outputs":[
    {
     "data":{
      "text\/html":[
       "<pre>array([ 2,  4,  6,  8, 14, 56, 78])<\/pre>"
      ]
     },
     "metadata":{
      
     },
     "output_type":"display_data"
    }
   ],
   "metadata":{
    "datalore":{
     "node_id":"gHkvhUysFlFXdrrIKc4OAX",
     "type":"CODE",
     "hide_input_from_viewers":true,
     "hide_output_from_viewers":true
    }
   }
  },
  {
   "cell_type":"code",
   "source":[
    "cv = w[(w>2)&(w<=21)]\n",
    "cv"
   ],
   "execution_count":20,
   "outputs":[
    {
     "data":{
      "text\/html":[
       "<pre>array([ 3,  4,  5,  6,  7,  8, 14])<\/pre>"
      ]
     },
     "metadata":{
      
     },
     "output_type":"display_data"
    }
   ],
   "metadata":{
    "datalore":{
     "node_id":"rzUmuw04gM2OPpUtQ2iZO4",
     "type":"CODE",
     "hide_input_from_viewers":true,
     "hide_output_from_viewers":true
    }
   }
  },
  {
   "cell_type":"code",
   "source":[
    "sv = w[(w<8) | (w>35)]\n",
    "sv"
   ],
   "execution_count":21,
   "outputs":[
    {
     "data":{
      "text\/html":[
       "<pre>array([ 1,  2,  3,  4,  5,  6,  7, 56, 78, 99])<\/pre>"
      ]
     },
     "metadata":{
      
     },
     "output_type":"display_data"
    }
   ],
   "metadata":{
    "datalore":{
     "node_id":"vBnQwm4c4ftg0gus8zKoti",
     "type":"CODE",
     "hide_input_from_viewers":true,
     "hide_output_from_viewers":true
    }
   }
  },
  {
   "cell_type":"code",
   "source":[
    "l1 = [4,5,3]\n",
    "l2 = [324,57,37]\n",
    "lw = l1+l2\n",
    "lw\n",
    "#opertor + w przypadku obiektu list dokonuje konkatenacji"
   ],
   "execution_count":22,
   "outputs":[
    {
     "data":{
      "text\/plain":[
       "[4, 5, 3, 324, 57, 37]"
      ]
     },
     "metadata":{
      
     },
     "output_type":"display_data"
    }
   ],
   "metadata":{
    "datalore":{
     "node_id":"k5tzA1jenvec8PlD1NWmEv",
     "type":"CODE",
     "hide_input_from_viewers":true,
     "hide_output_from_viewers":true
    }
   }
  },
  {
   "cell_type":"code",
   "source":[
    "dane = np.array([1,3,8])\n",
    "one = np.ones(3,dtype=int)\n",
    "tw = np.array([2,2,3])"
   ],
   "execution_count":23,
   "outputs":[
    
   ],
   "metadata":{
    "datalore":{
     "node_id":"qHPBQ9jUTbfgmN7fjjCMj7",
     "type":"CODE",
     "hide_input_from_viewers":true,
     "hide_output_from_viewers":true
    }
   }
  },
  {
   "cell_type":"code",
   "source":[
    "print(dane+one)"
   ],
   "execution_count":24,
   "outputs":[
    {
     "name":"stdout",
     "text":[
      "[2 4 9]\n"
     ],
     "output_type":"stream"
    }
   ],
   "metadata":{
    "datalore":{
     "node_id":"v9Y9Mreba1gI8BBNAwfugP",
     "type":"CODE",
     "hide_input_from_viewers":true,
     "hide_output_from_viewers":true
    }
   }
  },
  {
   "cell_type":"code",
   "source":[
    "print(dane-one)"
   ],
   "execution_count":25,
   "outputs":[
    {
     "name":"stdout",
     "text":[
      "[0 2 7]\n"
     ],
     "output_type":"stream"
    }
   ],
   "metadata":{
    "datalore":{
     "node_id":"uFW9Qux6ohnabjd5VhaIfH",
     "type":"CODE",
     "hide_input_from_viewers":true,
     "hide_output_from_viewers":true
    }
   }
  },
  {
   "cell_type":"code",
   "source":[
    "print(dane*tw)"
   ],
   "execution_count":26,
   "outputs":[
    {
     "name":"stdout",
     "text":[
      "[ 2  6 24]\n"
     ],
     "output_type":"stream"
    }
   ],
   "metadata":{
    "datalore":{
     "node_id":"tOcrtW3RVvgbNdOGOFMiqD",
     "type":"CODE",
     "hide_input_from_viewers":true,
     "hide_output_from_viewers":true
    }
   }
  },
  {
   "cell_type":"code",
   "source":[
    "print(dane\/tw)"
   ],
   "execution_count":27,
   "outputs":[
    {
     "name":"stdout",
     "text":[
      "[0.5        1.5        2.66666667]\n"
     ],
     "output_type":"stream"
    }
   ],
   "metadata":{
    "datalore":{
     "node_id":"UCgWUTFrsDjsOdWDJhSc1y",
     "type":"CODE",
     "hide_input_from_viewers":true,
     "hide_output_from_viewers":true
    }
   }
  },
  {
   "cell_type":"code",
   "source":[
    "print(dane*1.85)"
   ],
   "execution_count":28,
   "outputs":[
    {
     "name":"stdout",
     "text":[
      "[ 1.85  5.55 14.8 ]\n"
     ],
     "output_type":"stream"
    }
   ],
   "metadata":{
    "datalore":{
     "node_id":"L8lY87CMV0iS8iHJ0UOnTX",
     "type":"CODE",
     "hide_input_from_viewers":true,
     "hide_output_from_viewers":true
    }
   }
  },
  {
   "cell_type":"code",
   "source":[
    "m1 = np.array([[4,8,11],[67,101,3],[1,1,77]])\n",
    "m2 = np.array([[488,9,3],[23,89,3],[2,4,11]])\n",
    "wynik = (m1+m2)*m1\n",
    "wynik"
   ],
   "execution_count":29,
   "outputs":[
    {
     "data":{
      "text\/html":[
       "<pre>array([[ 1968,   136,   154],\n",
       "       [ 6030, 19190,    18],\n",
       "       [    3,     5,  6776]])<\/pre>"
      ]
     },
     "metadata":{
      
     },
     "output_type":"display_data"
    }
   ],
   "metadata":{
    "datalore":{
     "node_id":"QHB7Fj7BkPdKMcfOy9Yh7D",
     "type":"CODE",
     "hide_input_from_viewers":true,
     "hide_output_from_viewers":true
    }
   }
  },
  {
   "cell_type":"code",
   "source":[
    "print(f'wartość minimum: {wynik.min()}')\n",
    "print(f'wartość maximum: {wynik.max()}')\n",
    "print(f'wartość średnia: {wynik.mean()}')\n",
    "print(f'wartość std: {wynik.std()}')"
   ],
   "execution_count":30,
   "outputs":[
    {
     "name":"stdout",
     "text":[
      "wartość minimum: 3\n",
      "wartość maximum: 19190\n",
      "wartość średnia: 3808.8888888888887\n",
      "wartość std: 5998.870809381906\n"
     ],
     "output_type":"stream"
    }
   ],
   "metadata":{
    "datalore":{
     "node_id":"4p4pgSnXY5VeLme5nNpGyc",
     "type":"CODE",
     "hide_input_from_viewers":true,
     "hide_output_from_viewers":true
    }
   }
  },
  {
   "cell_type":"code",
   "source":[
    "#tensor\n",
    "arr = np.arange(27).reshape((3,3,3))\n",
    "arr"
   ],
   "execution_count":34,
   "outputs":[
    {
     "data":{
      "text\/plain":[
       "array([[[ 0,  1,  2],\n",
       "        [ 3,  4,  5],\n",
       "        [ 6,  7,  8]],\n",
       "\n",
       "       [[ 9, 10, 11],\n",
       "        [12, 13, 14],\n",
       "        [15, 16, 17]],\n",
       "\n",
       "       [[18, 19, 20],\n",
       "        [21, 22, 23],\n",
       "        [24, 25, 26]]])"
      ]
     },
     "metadata":{
      
     },
     "output_type":"display_data"
    }
   ],
   "metadata":{
    "datalore":{
     "node_id":"UTtDxqalcF0rJFFRXxJIds",
     "type":"CODE",
     "hide_input_from_viewers":true,
     "hide_output_from_viewers":true
    }
   }
  },
  {
   "cell_type":"code",
   "source":[
    "#tablica 5D\n",
    "arr5 = np.arange(240).reshape((2,2,4,5,3))\n",
    "arr5"
   ],
   "execution_count":35,
   "outputs":[
    {
     "data":{
      "text\/plain":[
       "array([[[[[  0,   1,   2],\n",
       "          [  3,   4,   5],\n",
       "          [  6,   7,   8],\n",
       "          [  9,  10,  11],\n",
       "          [ 12,  13,  14]],\n",
       "\n",
       "         [[ 15,  16,  17],\n",
       "          [ 18,  19,  20],\n",
       "          [ 21,  22,  23],\n",
       "          [ 24,  25,  26],\n",
       "          [ 27,  28,  29]],\n",
       "\n",
       "         [[ 30,  31,  32],\n",
       "          [ 33,  34,  35],\n",
       "          [ 36,  37,  38],\n",
       "          [ 39,  40,  41],\n",
       "          [ 42,  43,  44]],\n",
       "\n",
       "         [[ 45,  46,  47],\n",
       "          [ 48,  49,  50],\n",
       "          [ 51,  52,  53],\n",
       "          [ 54,  55,  56],\n",
       "          [ 57,  58,  59]]],\n",
       "\n",
       "\n",
       "        [[[ 60,  61,  62],\n",
       "          [ 63,  64,  65],\n",
       "          [ 66,  67,  68],\n",
       "          [ 69,  70,  71],\n",
       "          [ 72,  73,  74]],\n",
       "\n",
       "         [[ 75,  76,  77],\n",
       "          [ 78,  79,  80],\n",
       "          [ 81,  82,  83],\n",
       "          [ 84,  85,  86],\n",
       "          [ 87,  88,  89]],\n",
       "\n",
       "         [[ 90,  91,  92],\n",
       "          [ 93,  94,  95],\n",
       "          [ 96,  97,  98],\n",
       "          [ 99, 100, 101],\n",
       "          [102, 103, 104]],\n",
       "\n",
       "         [[105, 106, 107],\n",
       "          [108, 109, 110],\n",
       "          [111, 112, 113],\n",
       "          [114, 115, 116],\n",
       "          [117, 118, 119]]]],\n",
       "\n",
       "\n",
       "\n",
       "       [[[[120, 121, 122],\n",
       "          [123, 124, 125],\n",
       "          [126, 127, 128],\n",
       "          [129, 130, 131],\n",
       "          [132, 133, 134]],\n",
       "\n",
       "         [[135, 136, 137],\n",
       "          [138, 139, 140],\n",
       "          [141, 142, 143],\n",
       "          [144, 145, 146],\n",
       "          [147, 148, 149]],\n",
       "\n",
       "         [[150, 151, 152],\n",
       "          [153, 154, 155],\n",
       "          [156, 157, 158],\n",
       "          [159, 160, 161],\n",
       "          [162, 163, 164]],\n",
       "\n",
       "         [[165, 166, 167],\n",
       "          [168, 169, 170],\n",
       "          [171, 172, 173],\n",
       "          [174, 175, 176],\n",
       "          [177, 178, 179]]],\n",
       "\n",
       "\n",
       "        [[[180, 181, 182],\n",
       "          [183, 184, 185],\n",
       "          [186, 187, 188],\n",
       "          [189, 190, 191],\n",
       "          [192, 193, 194]],\n",
       "\n",
       "         [[195, 196, 197],\n",
       "          [198, 199, 200],\n",
       "          [201, 202, 203],\n",
       "          [204, 205, 206],\n",
       "          [207, 208, 209]],\n",
       "\n",
       "         [[210, 211, 212],\n",
       "          [213, 214, 215],\n",
       "          [216, 217, 218],\n",
       "          [219, 220, 221],\n",
       "          [222, 223, 224]],\n",
       "\n",
       "         [[225, 226, 227],\n",
       "          [228, 229, 230],\n",
       "          [231, 232, 233],\n",
       "          [234, 235, 236],\n",
       "          [237, 238, 239]]]]])"
      ]
     },
     "metadata":{
      
     },
     "output_type":"display_data"
    }
   ],
   "metadata":{
    "datalore":{
     "node_id":"x0FShvW7JBr3GJRNa9i3sH",
     "type":"CODE",
     "hide_input_from_viewers":true,
     "hide_output_from_viewers":true
    }
   }
  }
 ],
 "metadata":{
  "kernelspec":{
   "display_name":"Python",
   "language":"python",
   "name":"python"
  },
  "datalore":{
   "computation_mode":"JUPYTER",
   "package_manager":"pip",
   "base_environment":"default",
   "packages":[
    
   ],
   "report_row_ids":[
    
   ],
   "version":3
  }
 },
 "nbformat":4,
 "nbformat_minor":4
}