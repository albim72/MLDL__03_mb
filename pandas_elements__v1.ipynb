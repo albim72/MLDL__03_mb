{
 "cells":[
  {
   "cell_type":"code",
   "source":[
    "import pandas as pd\n",
    "import numpy as np"
   ],
   "execution_count":1,
   "outputs":[
    
   ],
   "metadata":{
    "datalore":{
     "node_id":"TWRgP70u0DMf6A8NFn6lYH",
     "type":"CODE",
     "hide_input_from_viewers":true,
     "hide_output_from_viewers":true
    }
   }
  },
  {
   "cell_type":"code",
   "source":[
    "s1 = pd.Series([4,6,7,12,3,5],index=['a','b','d','n','r','x'],name='wartosc')\n",
    "s1"
   ],
   "execution_count":3,
   "outputs":[
    {
     "data":{
      "text\/html":[
       "<pre>a     4\n",
       "b     6\n",
       "d     7\n",
       "n    12\n",
       "r     3\n",
       "x     5\n",
       "Name: wartosc, dtype: int64<\/pre>"
      ]
     },
     "metadata":{
      
     },
     "output_type":"display_data"
    }
   ],
   "metadata":{
    "datalore":{
     "node_id":"oX4SGNe5OSa3ZSyP7pTU5m",
     "type":"CODE",
     "hide_input_from_viewers":true,
     "hide_output_from_viewers":true
    }
   }
  },
  {
   "cell_type":"code",
   "source":[
    "sdata = {'Warszawa':12456,'Lublin':9876,'Kraków':11345,'Gdańsk':9876}\n",
    "s2 = pd.Series(sdata,name='wnioski')\n",
    "s2"
   ],
   "execution_count":5,
   "outputs":[
    {
     "data":{
      "text\/html":[
       "<pre>Warszawa    12456\n",
       "Lublin       9876\n",
       "Kraków      11345\n",
       "Gdańsk       9876\n",
       "Name: wnioski, dtype: int64<\/pre>"
      ]
     },
     "metadata":{
      
     },
     "output_type":"display_data"
    }
   ],
   "metadata":{
    "datalore":{
     "node_id":"lhRIA3q6xog3u1XsKQNxL6",
     "type":"CODE",
     "hide_input_from_viewers":true,
     "hide_output_from_viewers":true
    }
   }
  },
  {
   "cell_type":"code",
   "source":[
    "data = {'miasto':['Warszawa','Lublin','Wrocław','Kraków'],\n",
    "        'wnioski':[12665,11200,14570,12567],\n",
    "        'projekty':[7,6,6,7]}\n",
    "\n",
    "frame = pd.DataFrame(data, index=[10,11,12,13])\n",
    "frame"
   ],
   "execution_count":6,
   "outputs":[
    {
     "data":{
      "text\/html":[
       "<div>\n",
       "<style scoped>\n",
       "    .dataframe tbody tr th:only-of-type {\n",
       "        vertical-align: middle;\n",
       "    }\n",
       "\n",
       "    .dataframe tbody tr th {\n",
       "        vertical-align: top;\n",
       "    }\n",
       "\n",
       "    .dataframe thead th {\n",
       "        text-align: right;\n",
       "    }\n",
       "<\/style>\n",
       "<table border=\"1\" class=\"dataframe\">\n",
       "  <thead>\n",
       "    <tr style=\"text-align: right;\">\n",
       "      <th><\/th>\n",
       "      <th>miasto<\/th>\n",
       "      <th>wnioski<\/th>\n",
       "      <th>projekty<\/th>\n",
       "    <\/tr>\n",
       "  <\/thead>\n",
       "  <tbody>\n",
       "    <tr>\n",
       "      <th>10<\/th>\n",
       "      <td>Warszawa<\/td>\n",
       "      <td>12665<\/td>\n",
       "      <td>7<\/td>\n",
       "    <\/tr>\n",
       "    <tr>\n",
       "      <th>11<\/th>\n",
       "      <td>Lublin<\/td>\n",
       "      <td>11200<\/td>\n",
       "      <td>6<\/td>\n",
       "    <\/tr>\n",
       "    <tr>\n",
       "      <th>12<\/th>\n",
       "      <td>Wrocław<\/td>\n",
       "      <td>14570<\/td>\n",
       "      <td>6<\/td>\n",
       "    <\/tr>\n",
       "    <tr>\n",
       "      <th>13<\/th>\n",
       "      <td>Kraków<\/td>\n",
       "      <td>12567<\/td>\n",
       "      <td>7<\/td>\n",
       "    <\/tr>\n",
       "  <\/tbody>\n",
       "<\/table>\n",
       "<\/div>"
      ]
     },
     "metadata":{
      
     },
     "output_type":"display_data"
    }
   ],
   "metadata":{
    "datalore":{
     "node_id":"ISHQyUuZbJMkjmT2lBaSKg",
     "type":"CODE",
     "hide_input_from_viewers":true,
     "hide_output_from_viewers":true
    }
   }
  }
 ],
 "metadata":{
  "kernelspec":{
   "display_name":"Python",
   "language":"python",
   "name":"python"
  },
  "datalore":{
   "computation_mode":"JUPYTER",
   "package_manager":"pip",
   "base_environment":"default",
   "packages":[
    
   ],
   "report_row_ids":[
    
   ],
   "version":3
  }
 },
 "nbformat":4,
 "nbformat_minor":4
}